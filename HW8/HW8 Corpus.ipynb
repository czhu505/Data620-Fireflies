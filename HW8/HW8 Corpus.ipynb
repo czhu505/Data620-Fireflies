{
 "cells": [
  {
   "cell_type": "markdown",
   "metadata": {},
   "source": [
    "# Data620 HW8  Corpus"
   ]
  },
  {
   "cell_type": "markdown",
   "metadata": {},
   "source": [
    "Group 3 : Fireflies"
   ]
  },
  {
   "cell_type": "markdown",
   "metadata": {},
   "source": [
    "Members: Chunhui Zhu, Yuen Chun Wong, Chunmei Zhu"
   ]
  },
  {
   "cell_type": "markdown",
   "metadata": {},
   "source": [
    "## Requirement "
   ]
  },
  {
   "cell_type": "markdown",
   "metadata": {},
   "source": [
    "In this week's assignment, you are asked to analyze high frequency words.\n",
    "\n",
    "Please answer the fo llowing questions in an Jupyter Notebook, posted to GitHub.\n",
    "\n",
    "Choose a corpus of interest.\n",
    "\n",
    "How many total unique words are in the corpus?  (Please feel free to define unique words in any interesting, defensible way).\n",
    "\n",
    "\n",
    "Taking the most common words, how many unique words represent half of the total words in the corpus?Identify the 200 highest frequency words in this corpus.\n",
    "\n",
    "\n",
    "Create a graph that shows the relative frequency of these 200 words.\n",
    "\n",
    "\n",
    "Does the observed relative frequency of these words follow Zipf’s law? Explain.\n",
    "\n",
    "\n",
    "In what ways do you think the frequency of the words in this corpus differ from “all words in all corpora.”"
   ]
  },
  {
   "cell_type": "code",
   "execution_count": null,
   "metadata": {},
   "outputs": [],
   "source": []
  },
  {
   "cell_type": "code",
   "execution_count": null,
   "metadata": {},
   "outputs": [],
   "source": []
  },
  {
   "cell_type": "code",
   "execution_count": null,
   "metadata": {},
   "outputs": [],
   "source": []
  },
  {
   "cell_type": "code",
   "execution_count": null,
   "metadata": {},
   "outputs": [],
   "source": []
  }
 ],
 "metadata": {
  "kernelspec": {
   "display_name": "Python 3",
   "language": "python",
   "name": "python3"
  },
  "language_info": {
   "codemirror_mode": {
    "name": "ipython",
    "version": 3
   },
   "file_extension": ".py",
   "mimetype": "text/x-python",
   "name": "python",
   "nbconvert_exporter": "python",
   "pygments_lexer": "ipython3",
   "version": "3.7.2"
  }
 },
 "nbformat": 4,
 "nbformat_minor": 2
}
